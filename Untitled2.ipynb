{
  "nbformat": 4,
  "nbformat_minor": 0,
  "metadata": {
    "colab": {
      "provenance": [],
      "authorship_tag": "ABX9TyNWaNtwcweNBrk1gG+cnA26",
      "include_colab_link": true
    },
    "kernelspec": {
      "name": "python3",
      "display_name": "Python 3"
    },
    "language_info": {
      "name": "python"
    }
  },
  "cells": [
    {
      "cell_type": "markdown",
      "metadata": {
        "id": "view-in-github",
        "colab_type": "text"
      },
      "source": [
        "<a href=\"https://colab.research.google.com/github/ElindiOwl/ITP122-Assessment-2/blob/master/Untitled2.ipynb\" target=\"_parent\"><img src=\"https://colab.research.google.com/assets/colab-badge.svg\" alt=\"Open In Colab\"/></a>"
      ]
    },
    {
      "cell_type": "code",
      "execution_count": null,
      "metadata": {
        "id": "a5trzU-yCwPD"
      },
      "outputs": [],
      "source": [
        "def multiple(num1,num2):\n",
        "  result = num1*num2\n",
        "  print('multiplication is :', result)\n",
        "\n",
        "multiple(4,3)\n",
        "\n"
      ]
    },
    {
      "cell_type": "code",
      "source": [
        "class person:\n",
        "  def __init__(self,name):\n",
        "    self.name = name\n",
        "\n",
        "    print(self.name)\n",
        "\n",
        "    p1=person('person')\n",
        "\n"
      ],
      "metadata": {
        "id": "hePvuGGmHTQo"
      },
      "execution_count": 4,
      "outputs": []
    }
  ]
}